{
 "cells": [
  {
   "cell_type": "code",
   "execution_count": 5,
   "metadata": {},
   "outputs": [],
   "source": [
    "from PIL import Image\n",
    "import numpy as np\n",
    "from tensorflow.keras.models import load_model"
   ]
  },
  {
   "cell_type": "code",
   "execution_count": 11,
   "metadata": {},
   "outputs": [
    {
     "name": "stdout",
     "output_type": "stream",
     "text": [
      "1/1 [==============================] - 0s 103ms/step\n",
      "Label: calculator, Probability: 0.9997\n",
      "Label: qr_code, Probability: 0.0003\n",
      "Label: menu, Probability: 0.0000\n",
      "Label: music, Probability: 0.0000\n",
      "Label: grid, Probability: 0.0000\n"
     ]
    }
   ],
   "source": [
    "model = load_model('models/icon_classification_model_2.h5')\n",
    "\n",
    "test_image_path = 'testing/test.jpg'\n",
    "img = Image.open(test_image_path)\n",
    "img = img.resize((50, 50))\n",
    "img = img.convert('L')\n",
    "img_array = np.array(img)\n",
    "img_array = img_array.astype('float32') / 255.0\n",
    "\n",
    "img_array = img_array.reshape(1, 50, 50, 1)\n",
    "\n",
    "predictions = model.predict(img_array)\n",
    "\n",
    "top = 5\n",
    "\n",
    "top_indices = np.argsort(predictions[0])[-1*top:][::-1]\n",
    "\n",
    "label_dict = np.load(\"data/label_dict.npy\", allow_pickle=True).item()\n",
    "\n",
    "top_labels = [list(label_dict.keys())[i] for i in top_indices]\n",
    "\n",
    "top_probabilities = predictions[0][top_indices]\n",
    "\n",
    "for label, prob in zip(top_labels, top_probabilities):\n",
    "    print(f\"Label: {label}, Probability: {prob:.4f}\")"
   ]
  }
 ],
 "metadata": {
  "kernelspec": {
   "display_name": "tensorflow",
   "language": "python",
   "name": "python3"
  },
  "language_info": {
   "codemirror_mode": {
    "name": "ipython",
    "version": 3
   },
   "file_extension": ".py",
   "mimetype": "text/x-python",
   "name": "python",
   "nbconvert_exporter": "python",
   "pygments_lexer": "ipython3",
   "version": "3.10.12"
  }
 },
 "nbformat": 4,
 "nbformat_minor": 2
}
